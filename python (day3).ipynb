{
  "nbformat": 4,
  "nbformat_minor": 0,
  "metadata": {
    "colab": {
      "provenance": [],
      "authorship_tag": "ABX9TyMraomesfbu68vckrgeQ5Jb",
      "include_colab_link": true
    },
    "kernelspec": {
      "name": "python3",
      "display_name": "Python 3"
    },
    "language_info": {
      "name": "python"
    }
  },
  "cells": [
    {
      "cell_type": "markdown",
      "metadata": {
        "id": "view-in-github",
        "colab_type": "text"
      },
      "source": [
        "<a href=\"https://colab.research.google.com/github/madhubalakp20/Electronova-app/blob/main/python%20(day3).ipynb\" target=\"_parent\"><img src=\"https://colab.research.google.com/assets/colab-badge.svg\" alt=\"Open In Colab\"/></a>"
      ]
    },
    {
      "cell_type": "code",
      "execution_count": 14,
      "metadata": {
        "colab": {
          "base_uri": "https://localhost:8080/"
        },
        "id": "B6vR5FzZjhqO",
        "outputId": "6550f248-e70b-4fe8-f019-62577bac52ba"
      },
      "outputs": [
        {
          "output_type": "stream",
          "name": "stdout",
          "text": [
            "My Name is Nidhi\n"
          ]
        }
      ],
      "source": [
        "class student:\n",
        "  def __init__(self,name):\n",
        "    self.name = name\n",
        "  def say_hello(self):\n",
        "    print(\"My Name is\",self.name)\n",
        "\n",
        "s1=student(\"Nidhi\")\n",
        "s2=student(\"Kiruba\")\n",
        "s1.say_hello()"
      ]
    },
    {
      "cell_type": "code",
      "source": [
        "class Car:\n",
        "    def __init__(self, brand, colour):\n",
        "        self.brand = brand\n",
        "        self.colour = colour\n",
        "    def show_info(self):\n",
        "        print(\"Car brand is\", self.brand)\n",
        "        print(\"Car colour is\",self.colour)\n",
        "c1 = Car(\"Toyota\", \"Red\")\n",
        "c1.show_info()\n"
      ],
      "metadata": {
        "colab": {
          "base_uri": "https://localhost:8080/"
        },
        "id": "bvvxPATdwimW",
        "outputId": "20c79a3d-0c55-4bb6-ee93-1152de7c9302"
      },
      "execution_count": 22,
      "outputs": [
        {
          "output_type": "stream",
          "name": "stdout",
          "text": [
            "Car brand is Toyota\n",
            "Car colour is Red\n"
          ]
        }
      ]
    }
  ]
}